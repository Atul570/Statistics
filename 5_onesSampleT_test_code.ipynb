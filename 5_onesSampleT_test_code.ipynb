{
 "cells": [
  {
   "cell_type": "code",
   "execution_count": 16,
   "id": "45b8c052",
   "metadata": {},
   "outputs": [],
   "source": [
    "import numpy as np\n",
    "import pandas as pd\n",
    "from scipy.stats import t\n",
    "import math as math"
   ]
  },
  {
   "cell_type": "markdown",
   "id": "b0ef87a7",
   "metadata": {},
   "source": [
    "<font color = \"Red\">\n",
    "\n",
    "**Question:-**\n",
    "\n",
    "Suppose a manufacturer claims that the average weight of their new chocolate bars is 50\n",
    "grams, we highly doubt that and want to check this so we drew out a sample of 25 chocolate\n",
    "bars and measured their weight, the sample mean came out to be 49.7 grams and the sample\n",
    "std deviation was 1.2 grams. Consider the significance level to be 0.05\n",
    "\n",
    "</font>"
   ]
  },
  {
   "cell_type": "markdown",
   "id": "2da9e610",
   "metadata": {},
   "source": [
    "$H_o => \\mu = 50$\n",
    "\n",
    "$H_a =>\\mu \\neq 50$"
   ]
  },
  {
   "cell_type": "code",
   "execution_count": 17,
   "id": "474e0517",
   "metadata": {},
   "outputs": [],
   "source": [
    "p_mean = 50\n",
    "s_mean = 49.7\n",
    "s_std = 1.2\n",
    "n = 25\n",
    "significance_level = 0.05"
   ]
  },
  {
   "cell_type": "code",
   "execution_count": 18,
   "id": "5acd7b2d",
   "metadata": {},
   "outputs": [
    {
     "data": {
      "text/plain": [
       "0.24"
      ]
     },
     "execution_count": 18,
     "metadata": {},
     "output_type": "execute_result"
    }
   ],
   "source": [
    "standard_error = s_std/math.sqrt(n)\n",
    "standard_error"
   ]
  },
  {
   "cell_type": "code",
   "execution_count": 20,
   "id": "4ba6f0f1",
   "metadata": {},
   "outputs": [],
   "source": [
    "t_value = (s_mean - p_mean)/standard_error\n",
    "t_value = round(t_value,2)"
   ]
  },
  {
   "cell_type": "code",
   "execution_count": 21,
   "id": "d4d7701f",
   "metadata": {},
   "outputs": [],
   "source": [
    "p_value  = t.cdf(t_value,n-1)"
   ]
  },
  {
   "cell_type": "code",
   "execution_count": 22,
   "id": "b1615ec5",
   "metadata": {},
   "outputs": [
    {
     "data": {
      "text/plain": [
       "0.1116757390828102"
      ]
     },
     "execution_count": 22,
     "metadata": {},
     "output_type": "execute_result"
    }
   ],
   "source": [
    "p_value"
   ]
  },
  {
   "cell_type": "markdown",
   "id": "0cf07e90",
   "metadata": {},
   "source": [
    "<font color =\"red\"> P_value  > Significiance_level so we have not enough evidence to reject null </font>"
   ]
  },
  {
   "cell_type": "markdown",
   "id": "61b71ac1",
   "metadata": {},
   "source": [
    "### <font color = \"red\">1-sample t-test on titanic"
   ]
  },
  {
   "cell_type": "markdown",
   "id": "4013e6df",
   "metadata": {},
   "source": []
  }
 ],
 "metadata": {
  "kernelspec": {
   "display_name": "Python 3",
   "language": "python",
   "name": "python3"
  },
  "language_info": {
   "codemirror_mode": {
    "name": "ipython",
    "version": 3
   },
   "file_extension": ".py",
   "mimetype": "text/x-python",
   "name": "python",
   "nbconvert_exporter": "python",
   "pygments_lexer": "ipython3",
   "version": "3.11.2"
  }
 },
 "nbformat": 4,
 "nbformat_minor": 5
}
