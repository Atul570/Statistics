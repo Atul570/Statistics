{
 "cells": [
  {
   "cell_type": "markdown",
   "id": "940749c9",
   "metadata": {},
   "source": [
    "\n",
    "🧪 **Case Study: Coffee Shop Customer Spending**\n",
    "\n",
    "### 🏢 Business Background:\n",
    "\n",
    "A popular coffee shop chain is analyzing **customer spending behavior** across different regions and genders to optimize marketing strategies and offers. They have data for 100 customers with the following columns:\n",
    "\n",
    "* `CustomerID`\n",
    "* `Gender` (Male/Female)\n",
    "* `Region` (Urban/Suburban/Rural)\n",
    "* `Monthly_Spending` (in ₹)\n",
    "* `Monthly_Visits` (number of visits per month)\n",
    "* `LoyaltyMember` (Yes/No)\n",
    "\n",
    "---\n",
    "\n",
    "**🎯 Business Questions (Convert to Hypothesis Testing)**\n",
    "\n",
    "| Question                                                                 | Test Type         |\n",
    "| ------------------------------------------------------------------------ | ----------------- |\n",
    "| 1. Do male and female customers spend differently per month?             | Two-sample t-test |\n",
    "| 2. Do loyalty program members spend significantly more than non-members? | Two-sample t-test |\n",
    "| 3. Is there any difference in spending behavior across regions?          | One-way ANOVA     |\n",
    "| 4. Is Gender independent of Loyalty Membership?                          | Chi-square test   |\n",
    "\n",
    "---\n",
    "\n",
    "**✍️ Your Deliverables (Today’s Practice Result)**\n",
    "\n",
    "| Deliverable      | Description                                                |\n",
    "| ---------------- | ---------------------------------------------------------- |\n",
    "| ✅ Notebook       | `coffee_shop_hypothesis_testing.ipynb`                     |\n",
    "| ✅ Markdown       | State hypotheses for each test                             |\n",
    "| ✅ Interpretation | Conclusion for each question based on p-value              |\n",
    "| ✅ Bonus          | Add 1 insight chart using Seaborn (barplot, boxplot, etc.) |\n",
    "| ✅ (Optional)     | Push to GitHub with README about what you analyzed         |\n",
    "\n",
    "> **Project: Hypothesis Testing - Coffee Shop Analysis**\n",
    "> Performed statistical tests on a synthetic customer dataset from a coffee shop to derive business insights. Applied t-tests, ANOVA, and Chi-square to understand gender-based spending patterns, impact of loyalty membership, and regional differences. Interpreted p-values to make data-driven recommendations."
   ]
  },
  {
   "cell_type": "code",
   "execution_count": 1,
   "id": "9fb5b185",
   "metadata": {},
   "outputs": [
    {
     "data": {
      "text/html": [
       "<div>\n",
       "<style scoped>\n",
       "    .dataframe tbody tr th:only-of-type {\n",
       "        vertical-align: middle;\n",
       "    }\n",
       "\n",
       "    .dataframe tbody tr th {\n",
       "        vertical-align: top;\n",
       "    }\n",
       "\n",
       "    .dataframe thead th {\n",
       "        text-align: right;\n",
       "    }\n",
       "</style>\n",
       "<table border=\"1\" class=\"dataframe\">\n",
       "  <thead>\n",
       "    <tr style=\"text-align: right;\">\n",
       "      <th></th>\n",
       "      <th>CustomerID</th>\n",
       "      <th>Gender</th>\n",
       "      <th>Region</th>\n",
       "      <th>Monthly_Spending</th>\n",
       "      <th>Monthly_Visits</th>\n",
       "      <th>LoyaltyMember</th>\n",
       "    </tr>\n",
       "  </thead>\n",
       "  <tbody>\n",
       "    <tr>\n",
       "      <th>0</th>\n",
       "      <td>1</td>\n",
       "      <td>Male</td>\n",
       "      <td>Rural</td>\n",
       "      <td>903.52</td>\n",
       "      <td>3</td>\n",
       "      <td>No</td>\n",
       "    </tr>\n",
       "    <tr>\n",
       "      <th>1</th>\n",
       "      <td>2</td>\n",
       "      <td>Female</td>\n",
       "      <td>Suburban</td>\n",
       "      <td>1154.23</td>\n",
       "      <td>7</td>\n",
       "      <td>No</td>\n",
       "    </tr>\n",
       "    <tr>\n",
       "      <th>2</th>\n",
       "      <td>3</td>\n",
       "      <td>Male</td>\n",
       "      <td>Suburban</td>\n",
       "      <td>1392.53</td>\n",
       "      <td>14</td>\n",
       "      <td>No</td>\n",
       "    </tr>\n",
       "    <tr>\n",
       "      <th>3</th>\n",
       "      <td>4</td>\n",
       "      <td>Male</td>\n",
       "      <td>Suburban</td>\n",
       "      <td>1158.06</td>\n",
       "      <td>5</td>\n",
       "      <td>Yes</td>\n",
       "    </tr>\n",
       "    <tr>\n",
       "      <th>4</th>\n",
       "      <td>5</td>\n",
       "      <td>Male</td>\n",
       "      <td>Suburban</td>\n",
       "      <td>1045.19</td>\n",
       "      <td>6</td>\n",
       "      <td>Yes</td>\n",
       "    </tr>\n",
       "  </tbody>\n",
       "</table>\n",
       "</div>"
      ],
      "text/plain": [
       "   CustomerID  Gender    Region  Monthly_Spending  Monthly_Visits  \\\n",
       "0           1    Male     Rural            903.52               3   \n",
       "1           2  Female  Suburban           1154.23               7   \n",
       "2           3    Male  Suburban           1392.53              14   \n",
       "3           4    Male  Suburban           1158.06               5   \n",
       "4           5    Male  Suburban           1045.19               6   \n",
       "\n",
       "  LoyaltyMember  \n",
       "0            No  \n",
       "1            No  \n",
       "2            No  \n",
       "3           Yes  \n",
       "4           Yes  "
      ]
     },
     "execution_count": 1,
     "metadata": {},
     "output_type": "execute_result"
    }
   ],
   "source": [
    "import pandas as pd\n",
    "import numpy as np\n",
    "import math as math\n",
    "\n",
    "np.random.seed(42)\n",
    "\n",
    "n = 100\n",
    "data = pd.DataFrame({\n",
    "    'CustomerID': range(1, n+1),\n",
    "    'Gender': np.random.choice(['Male', 'Female'], size=n),\n",
    "    'Region': np.random.choice(['Urban', 'Suburban', 'Rural'], size=n),\n",
    "    'Monthly_Spending': np.random.normal(loc=1200, scale=200, size=n).round(2),\n",
    "    'Monthly_Visits': np.random.randint(3, 15, size=n),\n",
    "    'LoyaltyMember': np.random.choice(['Yes', 'No'], size=n, p=[0.6, 0.4])\n",
    "})\n",
    "\n",
    "data.head()"
   ]
  },
  {
   "cell_type": "code",
   "execution_count": 2,
   "id": "5dfe8adc",
   "metadata": {},
   "outputs": [],
   "source": [
    "male_df = data[data[\"Gender\"] == \"Male\"]"
   ]
  },
  {
   "cell_type": "code",
   "execution_count": 3,
   "id": "135411eb",
   "metadata": {},
   "outputs": [
    {
     "name": "stdout",
     "output_type": "stream",
     "text": [
      "44\n"
     ]
    },
    {
     "data": {
      "text/html": [
       "<div>\n",
       "<style scoped>\n",
       "    .dataframe tbody tr th:only-of-type {\n",
       "        vertical-align: middle;\n",
       "    }\n",
       "\n",
       "    .dataframe tbody tr th {\n",
       "        vertical-align: top;\n",
       "    }\n",
       "\n",
       "    .dataframe thead th {\n",
       "        text-align: right;\n",
       "    }\n",
       "</style>\n",
       "<table border=\"1\" class=\"dataframe\">\n",
       "  <thead>\n",
       "    <tr style=\"text-align: right;\">\n",
       "      <th></th>\n",
       "      <th>CustomerID</th>\n",
       "      <th>Gender</th>\n",
       "      <th>Region</th>\n",
       "      <th>Monthly_Spending</th>\n",
       "      <th>Monthly_Visits</th>\n",
       "      <th>LoyaltyMember</th>\n",
       "    </tr>\n",
       "  </thead>\n",
       "  <tbody>\n",
       "    <tr>\n",
       "      <th>0</th>\n",
       "      <td>1</td>\n",
       "      <td>Male</td>\n",
       "      <td>Rural</td>\n",
       "      <td>903.52</td>\n",
       "      <td>3</td>\n",
       "      <td>No</td>\n",
       "    </tr>\n",
       "    <tr>\n",
       "      <th>2</th>\n",
       "      <td>3</td>\n",
       "      <td>Male</td>\n",
       "      <td>Suburban</td>\n",
       "      <td>1392.53</td>\n",
       "      <td>14</td>\n",
       "      <td>No</td>\n",
       "    </tr>\n",
       "    <tr>\n",
       "      <th>3</th>\n",
       "      <td>4</td>\n",
       "      <td>Male</td>\n",
       "      <td>Suburban</td>\n",
       "      <td>1158.06</td>\n",
       "      <td>5</td>\n",
       "      <td>Yes</td>\n",
       "    </tr>\n",
       "    <tr>\n",
       "      <th>4</th>\n",
       "      <td>5</td>\n",
       "      <td>Male</td>\n",
       "      <td>Suburban</td>\n",
       "      <td>1045.19</td>\n",
       "      <td>6</td>\n",
       "      <td>Yes</td>\n",
       "    </tr>\n",
       "    <tr>\n",
       "      <th>6</th>\n",
       "      <td>7</td>\n",
       "      <td>Male</td>\n",
       "      <td>Suburban</td>\n",
       "      <td>1344.82</td>\n",
       "      <td>3</td>\n",
       "      <td>Yes</td>\n",
       "    </tr>\n",
       "  </tbody>\n",
       "</table>\n",
       "</div>"
      ],
      "text/plain": [
       "   CustomerID Gender    Region  Monthly_Spending  Monthly_Visits LoyaltyMember\n",
       "0           1   Male     Rural            903.52               3            No\n",
       "2           3   Male  Suburban           1392.53              14            No\n",
       "3           4   Male  Suburban           1158.06               5           Yes\n",
       "4           5   Male  Suburban           1045.19               6           Yes\n",
       "6           7   Male  Suburban           1344.82               3           Yes"
      ]
     },
     "execution_count": 3,
     "metadata": {},
     "output_type": "execute_result"
    }
   ],
   "source": [
    "print(len(male_df))\n",
    "male_df.head()"
   ]
  },
  {
   "cell_type": "code",
   "execution_count": 4,
   "id": "75a51e2c",
   "metadata": {},
   "outputs": [],
   "source": [
    "female_df = data[data[\"Gender\"] == \"Female\"]"
   ]
  },
  {
   "cell_type": "code",
   "execution_count": 5,
   "id": "67f11ab9",
   "metadata": {},
   "outputs": [
    {
     "name": "stdout",
     "output_type": "stream",
     "text": [
      "56\n"
     ]
    },
    {
     "data": {
      "text/html": [
       "<div>\n",
       "<style scoped>\n",
       "    .dataframe tbody tr th:only-of-type {\n",
       "        vertical-align: middle;\n",
       "    }\n",
       "\n",
       "    .dataframe tbody tr th {\n",
       "        vertical-align: top;\n",
       "    }\n",
       "\n",
       "    .dataframe thead th {\n",
       "        text-align: right;\n",
       "    }\n",
       "</style>\n",
       "<table border=\"1\" class=\"dataframe\">\n",
       "  <thead>\n",
       "    <tr style=\"text-align: right;\">\n",
       "      <th></th>\n",
       "      <th>CustomerID</th>\n",
       "      <th>Gender</th>\n",
       "      <th>Region</th>\n",
       "      <th>Monthly_Spending</th>\n",
       "      <th>Monthly_Visits</th>\n",
       "      <th>LoyaltyMember</th>\n",
       "    </tr>\n",
       "  </thead>\n",
       "  <tbody>\n",
       "    <tr>\n",
       "      <th>1</th>\n",
       "      <td>2</td>\n",
       "      <td>Female</td>\n",
       "      <td>Suburban</td>\n",
       "      <td>1154.23</td>\n",
       "      <td>7</td>\n",
       "      <td>No</td>\n",
       "    </tr>\n",
       "    <tr>\n",
       "      <th>5</th>\n",
       "      <td>6</td>\n",
       "      <td>Female</td>\n",
       "      <td>Suburban</td>\n",
       "      <td>1128.04</td>\n",
       "      <td>5</td>\n",
       "      <td>No</td>\n",
       "    </tr>\n",
       "    <tr>\n",
       "      <th>9</th>\n",
       "      <td>10</td>\n",
       "      <td>Female</td>\n",
       "      <td>Suburban</td>\n",
       "      <td>937.74</td>\n",
       "      <td>14</td>\n",
       "      <td>Yes</td>\n",
       "    </tr>\n",
       "    <tr>\n",
       "      <th>14</th>\n",
       "      <td>15</td>\n",
       "      <td>Female</td>\n",
       "      <td>Urban</td>\n",
       "      <td>980.75</td>\n",
       "      <td>11</td>\n",
       "      <td>Yes</td>\n",
       "    </tr>\n",
       "    <tr>\n",
       "      <th>16</th>\n",
       "      <td>17</td>\n",
       "      <td>Female</td>\n",
       "      <td>Rural</td>\n",
       "      <td>1066.79</td>\n",
       "      <td>10</td>\n",
       "      <td>Yes</td>\n",
       "    </tr>\n",
       "  </tbody>\n",
       "</table>\n",
       "</div>"
      ],
      "text/plain": [
       "    CustomerID  Gender    Region  Monthly_Spending  Monthly_Visits  \\\n",
       "1            2  Female  Suburban           1154.23               7   \n",
       "5            6  Female  Suburban           1128.04               5   \n",
       "9           10  Female  Suburban            937.74              14   \n",
       "14          15  Female     Urban            980.75              11   \n",
       "16          17  Female     Rural           1066.79              10   \n",
       "\n",
       "   LoyaltyMember  \n",
       "1             No  \n",
       "5             No  \n",
       "9            Yes  \n",
       "14           Yes  \n",
       "16           Yes  "
      ]
     },
     "execution_count": 5,
     "metadata": {},
     "output_type": "execute_result"
    }
   ],
   "source": [
    "print(len(female_df))\n",
    "female_df.head()"
   ]
  },
  {
   "cell_type": "markdown",
   "id": "ce97c457",
   "metadata": {},
   "source": [
    "<font size = 12 color = \"red\">Objective</font>\n",
    "\n",
    "Do male and female customers spend differently per month?\n",
    "\n",
    "<font size = 12 color = \"red\">Setting Hypothesis</font>\n",
    "\n",
    "Null Hypothesis : $\\text{Monthly Spending}_\\text{male} = \\text{Monthly Spending}_\\text{female}$<br>\n",
    "Alternative Hypothesis : $\\text{Monthly Spending}_\\text{male} \\neq \\text{Monthly Spending}_\\text{female}$\n",
    "\n",
    "<font size = 12 color = \"red\">Choosing Hypothesis</font>\n",
    "\n",
    "We Don't have Population Standard Devation So we will choose T_test . Also in Alternative Hypothesis we have $\\neq$ so it is two tailed Hypothesis , so Finally We will Chhose Two  Tailed \n",
    "t_test\n",
    "\n",
    "We have to Perform Hypothesis on Two independent  Set of Sample (Male,Female) So it is Two Sample T-Test"
   ]
  },
  {
   "cell_type": "code",
   "execution_count": 6,
   "id": "0901cf6d",
   "metadata": {},
   "outputs": [],
   "source": [
    "# Significance Level = 5%\n",
    "alpha = 0.05"
   ]
  },
  {
   "cell_type": "code",
   "execution_count": 7,
   "id": "88c9a5c8",
   "metadata": {},
   "outputs": [
    {
     "data": {
      "text/plain": [
       "0.602120151703943"
      ]
     },
     "execution_count": 7,
     "metadata": {},
     "output_type": "execute_result"
    }
   ],
   "source": [
    "# Sample Size\n",
    "n_male = len(male_df)\n",
    "n_female = len(female_df)\n",
    "\n",
    "#Degree of Freedom\n",
    "df = n_male + n_female - 2\n",
    "\n",
    "#Mean of Sample\n",
    "mu_male = male_df[\"Monthly_Spending\"].mean()\n",
    "mu_female = female_df[\"Monthly_Spending\"].mean()\n",
    "\n",
    "#Sample Standard Devation\n",
    "std_male = male_df[\"Monthly_Spending\"].std()\n",
    "std_female = female_df[\"Monthly_Spending\"].std()\n",
    "\n",
    "#pooled Standard Devation\n",
    "num = (n_male - 1)*((std_male)**2) + (n_female - 1)*((std_female)**2)\n",
    "den = n_male + n_female - 2\n",
    "\n",
    "std_p = math.sqrt(num/den)\n",
    "\n",
    "#Finding T_score\n",
    "t_score= (mu_male - mu_female)/ math.sqrt((std_p**2)*(1/n_male + 1/n_female))\n",
    "t_score "
   ]
  },
  {
   "cell_type": "markdown",
   "id": "1597a436",
   "metadata": {},
   "source": [
    "Finding critical value using alpha(Significance Level) and df(Degree of Freedom)\n",
    "\n",
    "$T_{\\alpha/2 , df}$\n"
   ]
  },
  {
   "cell_type": "code",
   "execution_count": 8,
   "id": "9d835fc6",
   "metadata": {},
   "outputs": [
    {
     "name": "stdout",
     "output_type": "stream",
     "text": [
      "Critical T_Value = 1.984467454426692 , P_value = 0.5484847525532055\n"
     ]
    }
   ],
   "source": [
    "from scipy.stats import t\n",
    "critical_t_value = t.ppf(1-alpha/2,df)\n",
    "p_value = 2 * (1 - t.cdf(abs(t_score), df))\n",
    "\n",
    "print(f\"Critical T_Value = {critical_t_value} , P_value = {p_value}\")\n"
   ]
  },
  {
   "cell_type": "markdown",
   "id": "aead784b",
   "metadata": {},
   "source": [
    "### Doing Everything Uisng Pre Builtin Function / Module"
   ]
  },
  {
   "cell_type": "code",
   "execution_count": 9,
   "id": "c281e01e",
   "metadata": {},
   "outputs": [
    {
     "data": {
      "text/plain": [
       "(0.602120151703943, 0.5484847525532055)"
      ]
     },
     "execution_count": 9,
     "metadata": {},
     "output_type": "execute_result"
    }
   ],
   "source": [
    "from scipy.stats import ttest_ind\n",
    "\n",
    "t_value ,p_score = ttest_ind(male_df[\"Monthly_Spending\"],female_df[\"Monthly_Spending\"])\n",
    "t_value , p_score"
   ]
  },
  {
   "cell_type": "markdown",
   "id": "7e422bcf",
   "metadata": {},
   "source": [
    "\n",
    "P_Score > 0.05 So,\n",
    "\n",
    "Fail to reject the null hypothesis. > ➡️ There’s no strong evidence to suggest that male and female monthly spending differs significantly."
   ]
  },
  {
   "cell_type": "code",
   "execution_count": 10,
   "id": "2f9576c8",
   "metadata": {},
   "outputs": [
    {
     "data": {
      "image/png": "[encoded data removed]",
      "text/plain": [
       "<Figure size 640x480 with 1 Axes>"
      ]
     },
     "metadata": {},
     "output_type": "display_data"
    }
   ],
   "source": [
    "import seaborn as sns\n",
    "import matplotlib.pyplot as plt\n",
    "\n",
    "sns.boxplot(x=\"Gender\", y=\"Monthly_Spending\", data=data)\n",
    "plt.title(\"Spending Distribution by Gender\")\n",
    "plt.show()"
   ]
  },
  {
   "cell_type": "code",
   "execution_count": 11,
   "id": "aa0c154c",
   "metadata": {},
   "outputs": [
    {
     "data": {
      "text/plain": [
       "(1219.2845454545454, 1194.3714285714286)"
      ]
     },
     "execution_count": 11,
     "metadata": {},
     "output_type": "execute_result"
    }
   ],
   "source": [
    "mu_male , mu_female"
   ]
  },
  {
   "cell_type": "markdown",
   "id": "093b1dda",
   "metadata": {},
   "source": [
    "\n",
    "### **Hypothesis Testing 2: Do Loyalty Program Members Spend More?**\n",
    "\n",
    "To evaluate whether loyalty program members spend significantly more than non-members, we’re working with **two independent samples**—one from loyalty members and one from non-members.\n",
    "\n",
    "Since the population standard deviations are unknown and sample sizes are moderate, we’ll use a **two-sample *t*-test**.\n",
    "\n",
    "- **Test type:** One-tailed (we are specifically testing whether members spend *more*, not just differently).\n",
    "- **Test selection:** Independent 2-sample *t*-test.\n",
    "- **Assumptions:** The samples are independent, drawn from normally distributed populations with equal or similar variances.\n",
    "\n",
    "\n",
    "### Setting Hypothesis\n",
    "\n",
    "Null Hypothesis : $\\mu_{loyalty Spend} = \\mu_{NotLoyal spend}$\n",
    "\n",
    "Alternative Hypothesis : $\\mu_{loyalty Spend} > \\mu_{NotLoyal spend}$"
   ]
  },
  {
   "cell_type": "code",
   "execution_count": 12,
   "id": "8ccd4d42",
   "metadata": {},
   "outputs": [],
   "source": [
    "data.head()\n",
    "\n",
    "Loyal_df = data[data[\"LoyaltyMember\"] == \"Yes\"]\n",
    "\n",
    "NotLoyal_df = data[data[\"LoyaltyMember\"]== \"No\"]\n"
   ]
  },
  {
   "cell_type": "code",
   "execution_count": 13,
   "id": "c93424a7",
   "metadata": {},
   "outputs": [
    {
     "data": {
      "text/plain": [
       "2.105161964456957"
      ]
     },
     "execution_count": 13,
     "metadata": {},
     "output_type": "execute_result"
    }
   ],
   "source": [
    "#sample size\n",
    "n_loyal = len(Loyal_df)\n",
    "n_notloyal = len(NotLoyal_df)\n",
    "\n",
    "#Degree of Freedom\n",
    "df = n_loyal + n_notloyal -2\n",
    "\n",
    "#mean of sample\n",
    "mu_loyal = Loyal_df[\"Monthly_Spending\"].mean()\n",
    "mu_notloyal = NotLoyal_df[\"Monthly_Spending\"].mean()\n",
    "\n",
    "#Standard Devation of Sample\n",
    "std_loyal = Loyal_df[\"Monthly_Spending\"].std()\n",
    "std_notloyal = NotLoyal_df[\"Monthly_Spending\"].std()\n",
    "\n",
    "#Pooled Standard Devation\n",
    "sp = math.sqrt(((n_loyal - 1)*(std_loyal)**2 + (n_notloyal - 1)*(std_notloyal)**2)/df)\n",
    "\n",
    "t_value = (mu_loyal - mu_notloyal)/math.sqrt((sp**2)*(1/n_loyal + 1/n_notloyal))\n",
    "t_value"
   ]
  },
  {
   "cell_type": "code",
   "execution_count": 14,
   "id": "ed832166",
   "metadata": {},
   "outputs": [],
   "source": [
    "#Calculating p-value\n",
    "p_value = 1-t.cdf(t_value,df)"
   ]
  },
  {
   "cell_type": "code",
   "execution_count": 15,
   "id": "d9457b0f",
   "metadata": {},
   "outputs": [
    {
     "data": {
      "text/plain": [
       "(2.1051619644569572, 0.018917234299996775)"
      ]
     },
     "execution_count": 15,
     "metadata": {},
     "output_type": "execute_result"
    }
   ],
   "source": [
    "from scipy.stats import ttest_ind\n",
    "\n",
    "t_value,p_value = ttest_ind(Loyal_df[\"Monthly_Spending\"],NotLoyal_df[\"Monthly_Spending\"],\n",
    "                            alternative = \"greater\")\n",
    "t_value,p_value"
   ]
  },
  {
   "cell_type": "markdown",
   "id": "91b8f68b",
   "metadata": {},
   "source": [
    "**${P-value} = 0.018$ <br> $\\alpha = 0.05$**\n",
    "${P-Value} < \\alpha$\n",
    "\n",
    "So We can reject Null Hypotheis so From above Hypothesis Proof that Loyalty Program Members Spend More"
   ]
  },
  {
   "cell_type": "markdown",
   "id": "ebb5a256",
   "metadata": {},
   "source": [
    "<font color=\"red\" size=\"6\">**Hypothesis Testing: Is there a difference in spending behavior across regions?**</font>\n",
    "\n",
    "### 🎯 Objective  \n",
    "To determine whether spending behavior is the same across **Rural**, **Suburban**, and **Urban** regions.\n",
    "\n",
    "---\n",
    "\n",
    "### 📜 Setting the Hypotheses  \n",
    "\n",
    "- **Null Hypothesis ($H_0$)**:  \n",
    "  $$\\mu_{\\text{Rural}} = \\mu_{\\text{Suburban}} = \\mu_{\\text{Urban}}$$  \n",
    "  _All group means are equal; there is no difference in spending behavior across regions._\n",
    "\n",
    "- **Alternative Hypothesis ($H_A$)**:  \n",
    "  $$\\text{Not all } \\mu_i \\text{ are equal}$$  \n",
    "  _At least one region differs in average spending behavior._\n",
    "\n",
    "---\n",
    "\n",
    "### 🧪 Choosing the Test  \n",
    "\n",
    "Since we are comparing means across **three independent groups**, we use a **One-Way ANOVA**.\n",
    "\n",
    "---"
   ]
  },
  {
   "cell_type": "code",
   "execution_count": 16,
   "id": "cccf7797",
   "metadata": {},
   "outputs": [],
   "source": [
    "rural = data[data[\"Region\"] == \"Rural\"]\n",
    "suburban = data[data[\"Region\"] == \"Suburban\"]\n",
    "urban = data[data[\"Region\"] == \"Urban\"]"
   ]
  },
  {
   "cell_type": "code",
   "execution_count": 17,
   "id": "660145e5",
   "metadata": {},
   "outputs": [],
   "source": [
    "mu_len = list()\n",
    "for i in data[\"Region\"].unique():\n",
    "    mu_len.append([data[data[\"Region\"] == i][\"Monthly_Spending\"].mean() ,\n",
    "               len(data[data[\"Region\"] == i])])\n",
    "mu_grand  = data[\"Monthly_Spending\"].mean()\n"
   ]
  },
  {
   "cell_type": "code",
   "execution_count": 18,
   "id": "6562e17a",
   "metadata": {},
   "outputs": [
    {
     "data": {
      "text/plain": [
       "18621.84161526701"
      ]
     },
     "execution_count": 18,
     "metadata": {},
     "output_type": "execute_result"
    }
   ],
   "source": [
    "#Between Group Sum Of Square\n",
    "ssb =   0\n",
    "for i,j in mu_len:\n",
    "    ssb = ssb + (j*(i - mu_grand)**2)\n",
    "ssb"
   ]
  },
  {
   "cell_type": "code",
   "execution_count": 19,
   "id": "20fe0550",
   "metadata": {},
   "outputs": [
    {
     "data": {
      "text/plain": [
       "4130539.120360733"
      ]
     },
     "execution_count": 19,
     "metadata": {},
     "output_type": "execute_result"
    }
   ],
   "source": [
    "# Within Group sum of Square\n",
    "ssw =0 \n",
    "for i in [rural[\"Monthly_Spending\"],suburban[\"Monthly_Spending\"],urban[\"Monthly_Spending\"]]:\n",
    "    mu = i.mean()\n",
    "    ssw = ssw + np.sum((i - mu)**2)\n",
    "ssw"
   ]
  },
  {
   "cell_type": "code",
   "execution_count": 20,
   "id": "17217b3c",
   "metadata": {},
   "outputs": [
    {
     "data": {
      "text/plain": [
       "4149160.9619759996"
      ]
     },
     "execution_count": 20,
     "metadata": {},
     "output_type": "execute_result"
    }
   ],
   "source": [
    "# Between Group Sum of Square\n",
    "sst = np.sum((data[\"Monthly_Spending\"] - data[\"Monthly_Spending\"].mean())**2)\n",
    "sst\n"
   ]
  },
  {
   "cell_type": "code",
   "execution_count": 21,
   "id": "fb1d67e6",
   "metadata": {},
   "outputs": [
    {
     "name": "stdout",
     "output_type": "stream",
     "text": [
      "f_value = 0.21865410108053263     p_value = 0.8039946252507988\n"
     ]
    }
   ],
   "source": [
    "from scipy.stats import f\n",
    "#Degree of Freedom for SSW \n",
    "dfb = 2\n",
    "#Degree of Freedom For SST\n",
    "dfw = len(data[\"Monthly_Spending\"]) - 3\n",
    "\n",
    "msb = ssb/dfb\n",
    "msw = ssw/dfw\n",
    "\n",
    "#F_value\n",
    "f_value = msb/msw\n",
    "\n",
    "#P_value\n",
    "p_value = f.sf(f_value,dfb,dfw)\n",
    "print(f\"f_value = {f_value}     p_value = {p_value}\")"
   ]
  },
  {
   "cell_type": "code",
   "execution_count": 22,
   "id": "c2b99b14",
   "metadata": {},
   "outputs": [
    {
     "ename": "NameError",
     "evalue": "name 'f_stat' is not defined",
     "output_type": "error",
     "traceback": [
      "\u001b[1;31m---------------------------------------------------------------------------\u001b[0m",
      "\u001b[1;31mNameError\u001b[0m                                 Traceback (most recent call last)",
      "Cell \u001b[1;32mIn[22], line 1\u001b[0m\n\u001b[1;32m----> 1\u001b[0m p_value \u001b[38;5;241m=\u001b[39m f\u001b[38;5;241m.\u001b[39msf(\u001b[43mf_stat\u001b[49m, df_between, df_within)\n",
      "\u001b[1;31mNameError\u001b[0m: name 'f_stat' is not defined"
     ]
    }
   ],
   "source": [
    "p_value = f.sf(f_stat, df_between, df_within)"
   ]
  },
  {
   "cell_type": "code",
   "execution_count": null,
   "id": "e63d476f",
   "metadata": {},
   "outputs": [
    {
     "data": {
      "text/plain": [
       "F_onewayResult(statistic=0.21865410108053693, pvalue=0.8039946252507945)"
      ]
     },
     "execution_count": 34,
     "metadata": {},
     "output_type": "execute_result"
    }
   ],
   "source": [
    "from scipy.stats import f_oneway\n",
    "f_oneway(rural[\"Monthly_Spending\"],suburban[\"Monthly_Spending\"],urban[\"Monthly_Spending\"])"
   ]
  },
  {
   "cell_type": "markdown",
   "id": "b1641815",
   "metadata": {},
   "source": [
    "$pvalue=0.8039946252507945$\n",
    "\n",
    "$\\alpha = 0.05$\n",
    "\n",
    "\n",
    "So , $pvalue > \\alpha$  Hence we cannot Reject Null Hypothesis  $\\mu_{\\text{Rural}} = \\mu_{\\text{Suburban}} = \\mu_{\\text{Urban}}$\n"
   ]
  },
  {
   "cell_type": "markdown",
   "id": "24d63cba",
   "metadata": {},
   "source": [
    "<font color=\"red\" size=\"6\">**Hypothesis Testing 3: Is Gender Independent of Loyalty Membership?**</font>\n",
    "\n",
    "### 🎯 Objective  \n",
    "To determine whether **Gender** has a significant association with **Loyalty Membership** — that is, whether gender influences loyalty membership status.\n",
    "\n",
    "---\n",
    "\n",
    "### 📜 Setting the Hypotheses  \n",
    "\n",
    "- **Null Hypothesis ($H_0$):**  \n",
    "  Gender and Loyalty Membership are **independent** — there is **no association** between the two categorical variables.\n",
    "\n",
    "- **Alternative Hypothesis ($H_A$):**  \n",
    "  Gender and Loyalty Membership are **not independent** — there **is an association** between them.\n",
    "\n",
    "---\n",
    "\n",
    "### 🧪 Choosing the Test  \n",
    "Since we are examining the relationship between **two categorical variables**, we use the **Chi-Square Test of Independence**.\n",
    "\n",
    "---\n",
    "\n"
   ]
  },
  {
   "cell_type": "code",
   "execution_count": null,
   "id": "bf995143",
   "metadata": {},
   "outputs": [
    {
     "data": {
      "text/html": [
       "<div>\n",
       "<style scoped>\n",
       "    .dataframe tbody tr th:only-of-type {\n",
       "        vertical-align: middle;\n",
       "    }\n",
       "\n",
       "    .dataframe tbody tr th {\n",
       "        vertical-align: top;\n",
       "    }\n",
       "\n",
       "    .dataframe thead th {\n",
       "        text-align: right;\n",
       "    }\n",
       "</style>\n",
       "<table border=\"1\" class=\"dataframe\">\n",
       "  <thead>\n",
       "    <tr style=\"text-align: right;\">\n",
       "      <th>LoyaltyMember</th>\n",
       "      <th>No</th>\n",
       "      <th>Yes</th>\n",
       "      <th>Total</th>\n",
       "    </tr>\n",
       "    <tr>\n",
       "      <th>Gender</th>\n",
       "      <th></th>\n",
       "      <th></th>\n",
       "      <th></th>\n",
       "    </tr>\n",
       "  </thead>\n",
       "  <tbody>\n",
       "    <tr>\n",
       "      <th>Female</th>\n",
       "      <td>26</td>\n",
       "      <td>30</td>\n",
       "      <td>56</td>\n",
       "    </tr>\n",
       "    <tr>\n",
       "      <th>Male</th>\n",
       "      <td>17</td>\n",
       "      <td>27</td>\n",
       "      <td>44</td>\n",
       "    </tr>\n",
       "    <tr>\n",
       "      <th>Total</th>\n",
       "      <td>43</td>\n",
       "      <td>57</td>\n",
       "      <td>100</td>\n",
       "    </tr>\n",
       "  </tbody>\n",
       "</table>\n",
       "</div>"
      ],
      "text/plain": [
       "LoyaltyMember  No  Yes  Total\n",
       "Gender                       \n",
       "Female         26   30     56\n",
       "Male           17   27     44\n",
       "Total          43   57    100"
      ]
     },
     "execution_count": 46,
     "metadata": {},
     "output_type": "execute_result"
    }
   ],
   "source": [
    "df_observed = pd.crosstab(data[\"Gender\"],data[\"LoyaltyMember\"],margins=True,margins_name=\"Total\")\n",
    "df_observed"
   ]
  },
  {
   "cell_type": "code",
   "execution_count": null,
   "id": "8182407b",
   "metadata": {},
   "outputs": [
    {
     "data": {
      "text/html": [
       "<div>\n",
       "<style scoped>\n",
       "    .dataframe tbody tr th:only-of-type {\n",
       "        vertical-align: middle;\n",
       "    }\n",
       "\n",
       "    .dataframe tbody tr th {\n",
       "        vertical-align: top;\n",
       "    }\n",
       "\n",
       "    .dataframe thead th {\n",
       "        text-align: right;\n",
       "    }\n",
       "</style>\n",
       "<table border=\"1\" class=\"dataframe\">\n",
       "  <thead>\n",
       "    <tr style=\"text-align: right;\">\n",
       "      <th></th>\n",
       "      <th>No</th>\n",
       "      <th>Yes</th>\n",
       "    </tr>\n",
       "  </thead>\n",
       "  <tbody>\n",
       "    <tr>\n",
       "      <th>Female</th>\n",
       "      <td>24.08</td>\n",
       "      <td>31.92</td>\n",
       "    </tr>\n",
       "    <tr>\n",
       "      <th>Male</th>\n",
       "      <td>18.92</td>\n",
       "      <td>25.08</td>\n",
       "    </tr>\n",
       "  </tbody>\n",
       "</table>\n",
       "</div>"
      ],
      "text/plain": [
       "           No    Yes\n",
       "Female  24.08  31.92\n",
       "Male    18.92  25.08"
      ]
     },
     "execution_count": 54,
     "metadata": {},
     "output_type": "execute_result"
    }
   ],
   "source": [
    "grand_total = df_observed.loc[\"Total\",\"Total\"]\n",
    "\n",
    "df_estimate = pd.DataFrame(index= [\"Female\",\"Male\"],columns = [\"No\",\"Yes\"], dtype = float)\n",
    "\n",
    "for row in df_estimate.index: \n",
    "    for col in df_estimate.columns:\n",
    "        df_estimate.loc[row,col] = ((df_observed.loc[row,\"Total\"] * df_observed.loc[\"Total\",col])/ grand_total)\n",
    "\n",
    "df_estimate"
   ]
  },
  {
   "cell_type": "code",
   "execution_count": null,
   "id": "c7a7553c",
   "metadata": {},
   "outputs": [
    {
     "data": {
      "text/html": [
       "<div>\n",
       "<style scoped>\n",
       "    .dataframe tbody tr th:only-of-type {\n",
       "        vertical-align: middle;\n",
       "    }\n",
       "\n",
       "    .dataframe tbody tr th {\n",
       "        vertical-align: top;\n",
       "    }\n",
       "\n",
       "    .dataframe thead th {\n",
       "        text-align: right;\n",
       "    }\n",
       "</style>\n",
       "<table border=\"1\" class=\"dataframe\">\n",
       "  <thead>\n",
       "    <tr style=\"text-align: right;\">\n",
       "      <th>LoyaltyMember</th>\n",
       "      <th>No</th>\n",
       "      <th>Yes</th>\n",
       "    </tr>\n",
       "    <tr>\n",
       "      <th>Gender</th>\n",
       "      <th></th>\n",
       "      <th></th>\n",
       "    </tr>\n",
       "  </thead>\n",
       "  <tbody>\n",
       "    <tr>\n",
       "      <th>Female</th>\n",
       "      <td>26</td>\n",
       "      <td>30</td>\n",
       "    </tr>\n",
       "    <tr>\n",
       "      <th>Male</th>\n",
       "      <td>17</td>\n",
       "      <td>27</td>\n",
       "    </tr>\n",
       "  </tbody>\n",
       "</table>\n",
       "</div>"
      ],
      "text/plain": [
       "LoyaltyMember  No  Yes\n",
       "Gender                \n",
       "Female         26   30\n",
       "Male           17   27"
      ]
     },
     "execution_count": 55,
     "metadata": {},
     "output_type": "execute_result"
    }
   ],
   "source": [
    "observed_value = df_observed.loc[[\"Female\",\"Male\"],[\"No\",\"Yes\"]]\n",
    "observed_value"
   ]
  },
  {
   "cell_type": "code",
   "execution_count": null,
   "id": "5ff50c7c",
   "metadata": {},
   "outputs": [
    {
     "data": {
      "text/plain": [
       "(0.6104055063663397, 0.43463517068036106)"
      ]
     },
     "execution_count": 62,
     "metadata": {},
     "output_type": "execute_result"
    }
   ],
   "source": [
    "from scipy.stats import chi2\n",
    "residuals = np.sum(((observed_value - df_estimate)**2)/df_estimate)\n",
    "stats = residuals.sum()\n",
    "\n",
    "df = (2-1) * (2-1)\n",
    "p_value = chi2.sf(stats,df)\n",
    "\n",
    "stats,p_value"
   ]
  },
  {
   "cell_type": "code",
   "execution_count": null,
   "id": "fe26072c",
   "metadata": {},
   "outputs": [],
   "source": [
    "from scipy.stats import chi2_contingency,chi2\n",
    "\n",
    "stats , p_value ,dof ,expected = chi2_contingency(df_observed)"
   ]
  },
  {
   "cell_type": "code",
   "execution_count": null,
   "id": "6da69553",
   "metadata": {},
   "outputs": [
    {
     "data": {
      "text/plain": [
       "(0.6104055063663397, 0.43463517068036106)"
      ]
     },
     "execution_count": 63,
     "metadata": {},
     "output_type": "execute_result"
    }
   ],
   "source": [
    "stats ,p_value"
   ]
  },
  {
   "cell_type": "markdown",
   "id": "23e6cb5f",
   "metadata": {},
   "source": [
    "$pvalue=0.43463517068036106$\n",
    "\n",
    "$\\alpha = 0.05$\n",
    "\n",
    "\n",
    "$pvalue > \\alpha$  Hence we cannot Reject Null Hypothesis  \n",
    "\n",
    "So, \n",
    "\n",
    "Both column `Gender` and `Loyalty Member` independent of each Other"
   ]
  }
 ],
 "metadata": {
  "kernelspec": {
   "display_name": "Python 3",
   "language": "python",
   "name": "python3"
  },
  "language_info": {
   "codemirror_mode": {
    "name": "ipython",
    "version": 3
   },
   "file_extension": ".py",
   "mimetype": "text/x-python",
   "name": "python",
   "nbconvert_exporter": "python",
   "pygments_lexer": "ipython3",
   "version": "3.11.2"
  }
 },
 "nbformat": 4,
 "nbformat_minor": 5
}
