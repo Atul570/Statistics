{
 "cells": [
  {
   "cell_type": "markdown",
   "id": "af842eb7",
   "metadata": {},
   "source": [
    "### <font color = \"red\">Polynomial Linear Regression</font>"
   ]
  },
  {
   "cell_type": "markdown",
   "id": "61880b1e",
   "metadata": {},
   "source": [
    "\n",
    "**📈 Polynomial Regression**\n",
    "\n",
    "**🔍 What is Polynomial Regression?**\n",
    "\n",
    "Polynomial Regression is a form of regression analysis in which the relationship between the independent variable `x` and the dependent variable `y` is modeled as an **nth-degree polynomial**.\n",
    "\n",
    "It is a **non-linear** regression technique but can still be solved using the **linear regression framework** by transforming features.\n",
    "\n",
    "\n",
    "\n",
    "**📌 When to Use?**\n",
    "\n",
    "- When the data shows a **curved (non-linear)** trend.\n",
    "- Linear regression underfits the data.\n",
    "- Want to capture the **interaction and curvature** between variables.\n",
    "\n",
    "**🧠 Polynomial Equation**\n",
    "\n",
    "The general form of an nth-degree polynomial regression is:\n",
    "\n",
    "$$\n",
    "y = \\beta_0 + \\beta_1 x + \\beta_2 x^2 + \\beta_3 x^3 + \\ldots + \\beta_n x^n + \\varepsilon\n",
    "$$\n",
    "\n",
    "- $ \\beta_0, \\beta_1, ..., \\beta_n $ are the parameters (coefficients).\n",
    "- $ x $ is the input feature.\n",
    "- $ \\varepsilon $ is the error term (noise).\n",
    "\n",
    "**📘 Mathematical Derivation**\n",
    "\n",
    "Let’s say we are doing a **second-degree polynomial regression**:\n",
    "\n",
    "$$\n",
    "y = \\beta_0 + \\beta_1 x + \\beta_2 x^2\n",
    "$$\n",
    "\n",
    "Suppose we have data points:  \n",
    "$$\n",
    "(x^{(1)}, y^{(1)}), (x^{(2)}, y^{(2)}), ..., (x^{(m)}, y^{(m)})\n",
    "$$\n",
    "\n",
    "We define a **design matrix X** with polynomial features:\n",
    "\n",
    "$$\n",
    "X = \n",
    "\\begin{bmatrix}\n",
    "1 & x^{(1)} & (x^{(1)})^2 \\\\\n",
    "1 & x^{(2)} & (x^{(2)})^2 \\\\\n",
    "\\vdots & \\vdots & \\vdots \\\\\n",
    "1 & x^{(m)} & (x^{(m)})^2 \\\\\n",
    "\\end{bmatrix}\n",
    "\\quad\\text{and}\\quad\n",
    "\\boldsymbol{\\beta} = \n",
    "\\begin{bmatrix}\n",
    "\\beta_0 \\\\\n",
    "\\beta_1 \\\\\n",
    "\\beta_2\n",
    "\\end{bmatrix}\n",
    "\\quad\\text{and}\\quad\n",
    "\\boldsymbol{y} = \n",
    "\\begin{bmatrix}\n",
    "y^{(1)} \\\\\n",
    "y^{(2)} \\\\\n",
    "\\vdots \\\\\n",
    "y^{(m)}\n",
    "\\end{bmatrix}\n",
    "$$\n",
    "\n",
    "Then, the hypothesis function becomes:\n",
    "\n",
    "$$\n",
    "\\hat{y} = X \\cdot \\boldsymbol{\\beta}\n",
    "$$\n",
    "\n",
    "To find the optimal $ \\boldsymbol{\\beta} $, we minimize the cost function:\n",
    "\n",
    "$$\n",
    "J(\\boldsymbol{\\beta}) = \\frac{1}{2m} \\sum_{i=1}^{m} \\left( \\hat{y}^{(i)} - y^{(i)} \\right)^2\n",
    "$$\n",
    "\n",
    "The closed-form solution is:\n",
    "\n",
    "$$\n",
    "\\boldsymbol{\\beta} = (X^T X)^{-1} X^T y\n",
    "$$\n",
    "\n",
    "\n",
    "\n",
    "**🧠 How Polynomial Regression Works**\n",
    "\n",
    "1. **Feature Expansion**:\n",
    "\n",
    "   * Convert `x` into `[x, x², x³, ..., xⁿ]`\n",
    "   * This allows linear regression to capture non-linear relationships.\n",
    "\n",
    "2. **Linear Learning**:\n",
    "\n",
    "   * Even though the model is non-linear in `x`, it's **linear in the parameters** $\\beta$, so we use the same optimization techniques.\n",
    "\n",
    "3. **Overfitting Risk**:\n",
    "\n",
    "   * Higher degree polynomials can fit training data very well but may **overfit** (memorize rather than generalize).\n",
    "\n",
    "\n",
    "\n",
    "**✅ Summary**\n",
    "\n",
    "* Polynomial Regression fits a curve through data using polynomial features.\n",
    "* It **extends Linear Regression** by transforming the original features.\n",
    "* Use with care: **too high degree = overfitting**, **too low = underfitting**.\n",
    "\n",
    "\n",
    "\n",
    "\n",
    "**🧠 Model Equation (Degree = 2)**\n",
    "\n",
    "$$\n",
    "\\hat{y} = \\beta_0 + \\beta_1 x + \\beta_2 x^2\n",
    "$$\n",
    "\n",
    "\n",
    "**✍️ Example Dataset**\n",
    "\n",
    "| x | y  |\n",
    "|---|----|\n",
    "| 1 | 2  |\n",
    "| 2 | 5  |\n",
    "| 3 | 10 |\n",
    "| 4 | 17 |\n",
    "| 5 | 26 |\n",
    "\n",
    "This follows a quadratic pattern:  \n",
    "$$\n",
    "y \\approx x^2 + 1\n",
    "$$\n",
    "\n",
    "\n",
    "\n",
    "**⚙️ How It Works**\n",
    "\n",
    "1. Transform feature `x` into `[x, x², x³, ...]`\n",
    "2. Use **linear regression** on the new features\n",
    "3. Fit curve instead of straight line\n",
    "\n",
    "\n",
    "**✅ Output Equation**\n",
    "\n",
    "After training, the model may learn:\n",
    "\n",
    "$$\n",
    "\\hat{y} = 1.0 + 0.0x + 1.0x^2 \\quad \\Rightarrow \\quad \\hat{y} = x^2 + 1\n",
    "$$\n",
    "\n"
   ]
  },
  {
   "cell_type": "markdown",
   "id": "c548b893",
   "metadata": {},
   "source": [
    "### Codeing of Polynomial Regression"
   ]
  },
  {
   "cell_type": "code",
   "execution_count": 54,
   "id": "a409e617",
   "metadata": {},
   "outputs": [],
   "source": [
    "import pandas as pd \n",
    "import numpy as np \n",
    "import matplotlib.pyplot as plt \n",
    "\n",
    "from sklearn.model_selection import train_test_split\n",
    "from sklearn.linear_model import LinearRegression\n",
    "from sklearn.preprocessing import PolynomialFeatures\n",
    "\n",
    "from sklearn.metrics import r2_score"
   ]
  },
  {
   "cell_type": "code",
   "execution_count": 55,
   "id": "e9a943ef",
   "metadata": {},
   "outputs": [],
   "source": [
    "x = 6 * np.random.rand(100,1) - 3\n",
    "y = 0.8 * x**2 + 0.9*x + 2 + np.random.randn(100,1)"
   ]
  },
  {
   "cell_type": "code",
   "execution_count": 56,
   "id": "30304636",
   "metadata": {},
   "outputs": [
    {
     "data": {
      "text/plain": [
       "[]"
      ]
     },
     "execution_count": 56,
     "metadata": {},
     "output_type": "execute_result"
    },
    {
     "data": {
      "image/png": "[encoded data removed]",
      "text/plain": [
       "<Figure size 640x480 with 1 Axes>"
      ]
     },
     "metadata": {},
     "output_type": "display_data"
    }
   ],
   "source": [
    "plt.scatter(x,y)\n",
    "plt.plot()"
   ]
  },
  {
   "cell_type": "markdown",
   "id": "e4d1bcbc",
   "metadata": {},
   "source": [
    "We Can See that this is non-Linear Data and Now there we use polynomial Regression But before That i use linear regression and find out r2-score"
   ]
  },
  {
   "cell_type": "code",
   "execution_count": 57,
   "id": "440ad266",
   "metadata": {},
   "outputs": [],
   "source": [
    "x_train,x_test,y_train,y_test = train_test_split(x,y,test_size = 0.2 , random_state=2)"
   ]
  },
  {
   "cell_type": "code",
   "execution_count": 58,
   "id": "1b5dacaa",
   "metadata": {},
   "outputs": [
    {
     "data": {
      "text/html": [
       "<style>#sk-container-id-7 {color: black;}#sk-container-id-7 pre{padding: 0;}#sk-container-id-7 div.sk-toggleable {background-color: white;}#sk-container-id-7 label.sk-toggleable__label {cursor: pointer;display: block;width: 100%;margin-bottom: 0;padding: 0.3em;box-sizing: border-box;text-align: center;}#sk-container-id-7 label.sk-toggleable__label-arrow:before {content: \"▸\";float: left;margin-right: 0.25em;color: #696969;}#sk-container-id-7 label.sk-toggleable__label-arrow:hover:before {color: black;}#sk-container-id-7 div.sk-estimator:hover label.sk-toggleable__label-arrow:before {color: black;}#sk-container-id-7 div.sk-toggleable__content {max-height: 0;max-width: 0;overflow: hidden;text-align: left;background-color: #f0f8ff;}#sk-container-id-7 div.sk-toggleable__content pre {margin: 0.2em;color: black;border-radius: 0.25em;background-color: #f0f8ff;}#sk-container-id-7 input.sk-toggleable__control:checked~div.sk-toggleable__content {max-height: 200px;max-width: 100%;overflow: auto;}#sk-container-id-7 input.sk-toggleable__control:checked~label.sk-toggleable__label-arrow:before {content: \"▾\";}#sk-container-id-7 div.sk-estimator input.sk-toggleable__control:checked~label.sk-toggleable__label {background-color: #d4ebff;}#sk-container-id-7 div.sk-label input.sk-toggleable__control:checked~label.sk-toggleable__label {background-color: #d4ebff;}#sk-container-id-7 input.sk-hidden--visually {border: 0;clip: rect(1px 1px 1px 1px);clip: rect(1px, 1px, 1px, 1px);height: 1px;margin: -1px;overflow: hidden;padding: 0;position: absolute;width: 1px;}#sk-container-id-7 div.sk-estimator {font-family: monospace;background-color: #f0f8ff;border: 1px dotted black;border-radius: 0.25em;box-sizing: border-box;margin-bottom: 0.5em;}#sk-container-id-7 div.sk-estimator:hover {background-color: #d4ebff;}#sk-container-id-7 div.sk-parallel-item::after {content: \"\";width: 100%;border-bottom: 1px solid gray;flex-grow: 1;}#sk-container-id-7 div.sk-label:hover label.sk-toggleable__label {background-color: #d4ebff;}#sk-container-id-7 div.sk-serial::before {content: \"\";position: absolute;border-left: 1px solid gray;box-sizing: border-box;top: 0;bottom: 0;left: 50%;z-index: 0;}#sk-container-id-7 div.sk-serial {display: flex;flex-direction: column;align-items: center;background-color: white;padding-right: 0.2em;padding-left: 0.2em;position: relative;}#sk-container-id-7 div.sk-item {position: relative;z-index: 1;}#sk-container-id-7 div.sk-parallel {display: flex;align-items: stretch;justify-content: center;background-color: white;position: relative;}#sk-container-id-7 div.sk-item::before, #sk-container-id-7 div.sk-parallel-item::before {content: \"\";position: absolute;border-left: 1px solid gray;box-sizing: border-box;top: 0;bottom: 0;left: 50%;z-index: -1;}#sk-container-id-7 div.sk-parallel-item {display: flex;flex-direction: column;z-index: 1;position: relative;background-color: white;}#sk-container-id-7 div.sk-parallel-item:first-child::after {align-self: flex-end;width: 50%;}#sk-container-id-7 div.sk-parallel-item:last-child::after {align-self: flex-start;width: 50%;}#sk-container-id-7 div.sk-parallel-item:only-child::after {width: 0;}#sk-container-id-7 div.sk-dashed-wrapped {border: 1px dashed gray;margin: 0 0.4em 0.5em 0.4em;box-sizing: border-box;padding-bottom: 0.4em;background-color: white;}#sk-container-id-7 div.sk-label label {font-family: monospace;font-weight: bold;display: inline-block;line-height: 1.2em;}#sk-container-id-7 div.sk-label-container {text-align: center;}#sk-container-id-7 div.sk-container {/* jupyter's `normalize.less` sets `[hidden] { display: none; }` but bootstrap.min.css set `[hidden] { display: none !important; }` so we also need the `!important` here to be able to override the default hidden behavior on the sphinx rendered scikit-learn.org. See: https://github.com/scikit-learn/scikit-learn/issues/21755 */display: inline-block !important;position: relative;}#sk-container-id-7 div.sk-text-repr-fallback {display: none;}</style><div id=\"sk-container-id-7\" class=\"sk-top-container\"><div class=\"sk-text-repr-fallback\"><pre>LinearRegression()</pre><b>In a Jupyter environment, please rerun this cell to show the HTML representation or trust the notebook. <br />On GitHub, the HTML representation is unable to render, please try loading this page with nbviewer.org.</b></div><div class=\"sk-container\" hidden><div class=\"sk-item\"><div class=\"sk-estimator sk-toggleable\"><input class=\"sk-toggleable__control sk-hidden--visually\" id=\"sk-estimator-id-7\" type=\"checkbox\" checked><label for=\"sk-estimator-id-7\" class=\"sk-toggleable__label sk-toggleable__label-arrow\">LinearRegression</label><div class=\"sk-toggleable__content\"><pre>LinearRegression()</pre></div></div></div></div></div>"
      ],
      "text/plain": [
       "LinearRegression()"
      ]
     },
     "execution_count": 58,
     "metadata": {},
     "output_type": "execute_result"
    }
   ],
   "source": [
    "lr = LinearRegression()\n",
    "lr"
   ]
  },
  {
   "cell_type": "code",
   "execution_count": 59,
   "id": "a104554a",
   "metadata": {},
   "outputs": [
    {
     "data": {
      "text/html": [
       "<style>#sk-container-id-8 {color: black;}#sk-container-id-8 pre{padding: 0;}#sk-container-id-8 div.sk-toggleable {background-color: white;}#sk-container-id-8 label.sk-toggleable__label {cursor: pointer;display: block;width: 100%;margin-bottom: 0;padding: 0.3em;box-sizing: border-box;text-align: center;}#sk-container-id-8 label.sk-toggleable__label-arrow:before {content: \"▸\";float: left;margin-right: 0.25em;color: #696969;}#sk-container-id-8 label.sk-toggleable__label-arrow:hover:before {color: black;}#sk-container-id-8 div.sk-estimator:hover label.sk-toggleable__label-arrow:before {color: black;}#sk-container-id-8 div.sk-toggleable__content {max-height: 0;max-width: 0;overflow: hidden;text-align: left;background-color: #f0f8ff;}#sk-container-id-8 div.sk-toggleable__content pre {margin: 0.2em;color: black;border-radius: 0.25em;background-color: #f0f8ff;}#sk-container-id-8 input.sk-toggleable__control:checked~div.sk-toggleable__content {max-height: 200px;max-width: 100%;overflow: auto;}#sk-container-id-8 input.sk-toggleable__control:checked~label.sk-toggleable__label-arrow:before {content: \"▾\";}#sk-container-id-8 div.sk-estimator input.sk-toggleable__control:checked~label.sk-toggleable__label {background-color: #d4ebff;}#sk-container-id-8 div.sk-label input.sk-toggleable__control:checked~label.sk-toggleable__label {background-color: #d4ebff;}#sk-container-id-8 input.sk-hidden--visually {border: 0;clip: rect(1px 1px 1px 1px);clip: rect(1px, 1px, 1px, 1px);height: 1px;margin: -1px;overflow: hidden;padding: 0;position: absolute;width: 1px;}#sk-container-id-8 div.sk-estimator {font-family: monospace;background-color: #f0f8ff;border: 1px dotted black;border-radius: 0.25em;box-sizing: border-box;margin-bottom: 0.5em;}#sk-container-id-8 div.sk-estimator:hover {background-color: #d4ebff;}#sk-container-id-8 div.sk-parallel-item::after {content: \"\";width: 100%;border-bottom: 1px solid gray;flex-grow: 1;}#sk-container-id-8 div.sk-label:hover label.sk-toggleable__label {background-color: #d4ebff;}#sk-container-id-8 div.sk-serial::before {content: \"\";position: absolute;border-left: 1px solid gray;box-sizing: border-box;top: 0;bottom: 0;left: 50%;z-index: 0;}#sk-container-id-8 div.sk-serial {display: flex;flex-direction: column;align-items: center;background-color: white;padding-right: 0.2em;padding-left: 0.2em;position: relative;}#sk-container-id-8 div.sk-item {position: relative;z-index: 1;}#sk-container-id-8 div.sk-parallel {display: flex;align-items: stretch;justify-content: center;background-color: white;position: relative;}#sk-container-id-8 div.sk-item::before, #sk-container-id-8 div.sk-parallel-item::before {content: \"\";position: absolute;border-left: 1px solid gray;box-sizing: border-box;top: 0;bottom: 0;left: 50%;z-index: -1;}#sk-container-id-8 div.sk-parallel-item {display: flex;flex-direction: column;z-index: 1;position: relative;background-color: white;}#sk-container-id-8 div.sk-parallel-item:first-child::after {align-self: flex-end;width: 50%;}#sk-container-id-8 div.sk-parallel-item:last-child::after {align-self: flex-start;width: 50%;}#sk-container-id-8 div.sk-parallel-item:only-child::after {width: 0;}#sk-container-id-8 div.sk-dashed-wrapped {border: 1px dashed gray;margin: 0 0.4em 0.5em 0.4em;box-sizing: border-box;padding-bottom: 0.4em;background-color: white;}#sk-container-id-8 div.sk-label label {font-family: monospace;font-weight: bold;display: inline-block;line-height: 1.2em;}#sk-container-id-8 div.sk-label-container {text-align: center;}#sk-container-id-8 div.sk-container {/* jupyter's `normalize.less` sets `[hidden] { display: none; }` but bootstrap.min.css set `[hidden] { display: none !important; }` so we also need the `!important` here to be able to override the default hidden behavior on the sphinx rendered scikit-learn.org. See: https://github.com/scikit-learn/scikit-learn/issues/21755 */display: inline-block !important;position: relative;}#sk-container-id-8 div.sk-text-repr-fallback {display: none;}</style><div id=\"sk-container-id-8\" class=\"sk-top-container\"><div class=\"sk-text-repr-fallback\"><pre>LinearRegression()</pre><b>In a Jupyter environment, please rerun this cell to show the HTML representation or trust the notebook. <br />On GitHub, the HTML representation is unable to render, please try loading this page with nbviewer.org.</b></div><div class=\"sk-container\" hidden><div class=\"sk-item\"><div class=\"sk-estimator sk-toggleable\"><input class=\"sk-toggleable__control sk-hidden--visually\" id=\"sk-estimator-id-8\" type=\"checkbox\" checked><label for=\"sk-estimator-id-8\" class=\"sk-toggleable__label sk-toggleable__label-arrow\">LinearRegression</label><div class=\"sk-toggleable__content\"><pre>LinearRegression()</pre></div></div></div></div></div>"
      ],
      "text/plain": [
       "LinearRegression()"
      ]
     },
     "execution_count": 59,
     "metadata": {},
     "output_type": "execute_result"
    }
   ],
   "source": [
    "lr.fit(x_train,y_train)"
   ]
  },
  {
   "cell_type": "code",
   "execution_count": 60,
   "id": "3f7235b0",
   "metadata": {},
   "outputs": [
    {
     "data": {
      "text/plain": [
       "array([[1.81206317],\n",
       "       [4.80179786],\n",
       "       [4.78949286],\n",
       "       [6.54379095],\n",
       "       [6.99585447],\n",
       "       [3.35316752],\n",
       "       [4.62674732],\n",
       "       [6.93907104],\n",
       "       [2.03260537],\n",
       "       [3.58300435],\n",
       "       [2.7367914 ],\n",
       "       [5.03628615],\n",
       "       [5.12821566],\n",
       "       [2.46678315],\n",
       "       [5.25855705],\n",
       "       [5.31075654],\n",
       "       [6.77601474],\n",
       "       [1.49545403],\n",
       "       [3.79728105],\n",
       "       [3.01340306]])"
      ]
     },
     "execution_count": 60,
     "metadata": {},
     "output_type": "execute_result"
    }
   ],
   "source": [
    "y_pred = lr.predict(x_test)\n",
    "y_pred"
   ]
  },
  {
   "cell_type": "code",
   "execution_count": 61,
   "id": "5b46c562",
   "metadata": {},
   "outputs": [
    {
     "data": {
      "text/plain": [
       "0.27412582824459475"
      ]
     },
     "execution_count": 61,
     "metadata": {},
     "output_type": "execute_result"
    }
   ],
   "source": [
    "r2_score(y_test,y_pred)"
   ]
  },
  {
   "cell_type": "code",
   "execution_count": 62,
   "id": "c897dfcb",
   "metadata": {},
   "outputs": [
    {
     "data": {
      "image/png": "[encoded data removed]",
      "text/plain": [
       "<Figure size 640x480 with 1 Axes>"
      ]
     },
     "metadata": {},
     "output_type": "display_data"
    }
   ],
   "source": [
    "plt.scatter(x,y)\n",
    "plt.plot(x_train,lr.predict(x_train),color =\"red\",label = \"regression line without polynomial regression\")\n",
    "plt.legend()\n",
    "plt.show()"
   ]
  },
  {
   "cell_type": "markdown",
   "id": "69a8d2fa",
   "metadata": {},
   "source": [
    "Polynomial Regression Start from Here"
   ]
  },
  {
   "cell_type": "code",
   "execution_count": 63,
   "id": "c79e503e",
   "metadata": {},
   "outputs": [],
   "source": [
    "poly_f=PolynomialFeatures(degree=2)\n",
    "x_train_tranformed = poly_f.fit_transform(x_train)\n",
    "x_test_tranformed = poly_f.transform(x_test)"
   ]
  },
  {
   "cell_type": "markdown",
   "id": "55fe2772",
   "metadata": {},
   "source": [
    "To understand difference between fit_transform() and Transform go to last of this notebook"
   ]
  },
  {
   "cell_type": "code",
   "execution_count": 64,
   "id": "86dd0f46",
   "metadata": {},
   "outputs": [
    {
     "name": "stdout",
     "output_type": "stream",
     "text": [
      "[0.43742285]\n",
      "[ 1.         -2.48222687  6.16145025]\n"
     ]
    }
   ],
   "source": [
    "print(x_train[0],x_test_tranformed[0],sep=\"\\n\")\n"
   ]
  },
  {
   "cell_type": "code",
   "execution_count": 65,
   "id": "f522cdca",
   "metadata": {},
   "outputs": [
    {
     "data": {
      "text/html": [
       "<style>#sk-container-id-9 {color: black;}#sk-container-id-9 pre{padding: 0;}#sk-container-id-9 div.sk-toggleable {background-color: white;}#sk-container-id-9 label.sk-toggleable__label {cursor: pointer;display: block;width: 100%;margin-bottom: 0;padding: 0.3em;box-sizing: border-box;text-align: center;}#sk-container-id-9 label.sk-toggleable__label-arrow:before {content: \"▸\";float: left;margin-right: 0.25em;color: #696969;}#sk-container-id-9 label.sk-toggleable__label-arrow:hover:before {color: black;}#sk-container-id-9 div.sk-estimator:hover label.sk-toggleable__label-arrow:before {color: black;}#sk-container-id-9 div.sk-toggleable__content {max-height: 0;max-width: 0;overflow: hidden;text-align: left;background-color: #f0f8ff;}#sk-container-id-9 div.sk-toggleable__content pre {margin: 0.2em;color: black;border-radius: 0.25em;background-color: #f0f8ff;}#sk-container-id-9 input.sk-toggleable__control:checked~div.sk-toggleable__content {max-height: 200px;max-width: 100%;overflow: auto;}#sk-container-id-9 input.sk-toggleable__control:checked~label.sk-toggleable__label-arrow:before {content: \"▾\";}#sk-container-id-9 div.sk-estimator input.sk-toggleable__control:checked~label.sk-toggleable__label {background-color: #d4ebff;}#sk-container-id-9 div.sk-label input.sk-toggleable__control:checked~label.sk-toggleable__label {background-color: #d4ebff;}#sk-container-id-9 input.sk-hidden--visually {border: 0;clip: rect(1px 1px 1px 1px);clip: rect(1px, 1px, 1px, 1px);height: 1px;margin: -1px;overflow: hidden;padding: 0;position: absolute;width: 1px;}#sk-container-id-9 div.sk-estimator {font-family: monospace;background-color: #f0f8ff;border: 1px dotted black;border-radius: 0.25em;box-sizing: border-box;margin-bottom: 0.5em;}#sk-container-id-9 div.sk-estimator:hover {background-color: #d4ebff;}#sk-container-id-9 div.sk-parallel-item::after {content: \"\";width: 100%;border-bottom: 1px solid gray;flex-grow: 1;}#sk-container-id-9 div.sk-label:hover label.sk-toggleable__label {background-color: #d4ebff;}#sk-container-id-9 div.sk-serial::before {content: \"\";position: absolute;border-left: 1px solid gray;box-sizing: border-box;top: 0;bottom: 0;left: 50%;z-index: 0;}#sk-container-id-9 div.sk-serial {display: flex;flex-direction: column;align-items: center;background-color: white;padding-right: 0.2em;padding-left: 0.2em;position: relative;}#sk-container-id-9 div.sk-item {position: relative;z-index: 1;}#sk-container-id-9 div.sk-parallel {display: flex;align-items: stretch;justify-content: center;background-color: white;position: relative;}#sk-container-id-9 div.sk-item::before, #sk-container-id-9 div.sk-parallel-item::before {content: \"\";position: absolute;border-left: 1px solid gray;box-sizing: border-box;top: 0;bottom: 0;left: 50%;z-index: -1;}#sk-container-id-9 div.sk-parallel-item {display: flex;flex-direction: column;z-index: 1;position: relative;background-color: white;}#sk-container-id-9 div.sk-parallel-item:first-child::after {align-self: flex-end;width: 50%;}#sk-container-id-9 div.sk-parallel-item:last-child::after {align-self: flex-start;width: 50%;}#sk-container-id-9 div.sk-parallel-item:only-child::after {width: 0;}#sk-container-id-9 div.sk-dashed-wrapped {border: 1px dashed gray;margin: 0 0.4em 0.5em 0.4em;box-sizing: border-box;padding-bottom: 0.4em;background-color: white;}#sk-container-id-9 div.sk-label label {font-family: monospace;font-weight: bold;display: inline-block;line-height: 1.2em;}#sk-container-id-9 div.sk-label-container {text-align: center;}#sk-container-id-9 div.sk-container {/* jupyter's `normalize.less` sets `[hidden] { display: none; }` but bootstrap.min.css set `[hidden] { display: none !important; }` so we also need the `!important` here to be able to override the default hidden behavior on the sphinx rendered scikit-learn.org. See: https://github.com/scikit-learn/scikit-learn/issues/21755 */display: inline-block !important;position: relative;}#sk-container-id-9 div.sk-text-repr-fallback {display: none;}</style><div id=\"sk-container-id-9\" class=\"sk-top-container\"><div class=\"sk-text-repr-fallback\"><pre>LinearRegression()</pre><b>In a Jupyter environment, please rerun this cell to show the HTML representation or trust the notebook. <br />On GitHub, the HTML representation is unable to render, please try loading this page with nbviewer.org.</b></div><div class=\"sk-container\" hidden><div class=\"sk-item\"><div class=\"sk-estimator sk-toggleable\"><input class=\"sk-toggleable__control sk-hidden--visually\" id=\"sk-estimator-id-9\" type=\"checkbox\" checked><label for=\"sk-estimator-id-9\" class=\"sk-toggleable__label sk-toggleable__label-arrow\">LinearRegression</label><div class=\"sk-toggleable__content\"><pre>LinearRegression()</pre></div></div></div></div></div>"
      ],
      "text/plain": [
       "LinearRegression()"
      ]
     },
     "execution_count": 65,
     "metadata": {},
     "output_type": "execute_result"
    }
   ],
   "source": [
    "lr.fit(x_train_tranformed,y_train)"
   ]
  },
  {
   "cell_type": "code",
   "execution_count": 66,
   "id": "816fd4d4",
   "metadata": {},
   "outputs": [
    {
     "data": {
      "text/plain": [
       "0.9109069510242332"
      ]
     },
     "execution_count": 66,
     "metadata": {},
     "output_type": "execute_result"
    }
   ],
   "source": [
    "y_pred = lr.predict(x_test_tranformed)\n",
    "r2_score(y_test,y_pred)"
   ]
  },
  {
   "cell_type": "code",
   "execution_count": 68,
   "id": "3df205be",
   "metadata": {},
   "outputs": [
    {
     "data": {
      "text/plain": [
       "[<matplotlib.lines.Line2D at 0x22a5b1c3210>]"
      ]
     },
     "execution_count": 68,
     "metadata": {},
     "output_type": "execute_result"
    },
    {
     "data": {
      "image/png": "[encoded data removed]",
      "text/plain": [
       "<Figure size 640x480 with 1 Axes>"
      ]
     },
     "metadata": {},
     "output_type": "display_data"
    }
   ],
   "source": [
    "plt.scatter(x,y)\n",
    "x_sorted = np.linspace(-3,3,100).reshape(-1,1)\n",
    "y_sorted = lr.predict(poly_f.transform(x_sorted))\n",
    "plt.plot(x_sorted,y_sorted,color = \"Red\")\n",
    "#Why x_sorted and y_sorted came in picture goto end of notebook"
   ]
  },
  {
   "cell_type": "markdown",
   "id": "2441e57f",
   "metadata": {},
   "source": [
    "\n",
    "\n",
    "### Difference Between fit_transform() and transform()\n",
    "\n",
    "---\n",
    "\n",
    "### 🔢 Code Recap:\n",
    "\n",
    "```python\n",
    "poly = PolynomialFeatures(degree=2, include_bias=True)\n",
    "\n",
    "X_train_trans = poly.fit_transform(X_train)  # ✅ step 1\n",
    "X_test_trans = poly.transform(X_test)        # ✅ step 2\n",
    "```\n",
    "\n",
    "---\n",
    "\n",
    "## 🎯 What’s the difference?\n",
    "\n",
    "### ✅ 1. `fit_transform(X_train)`\n",
    "\n",
    "This does **two things**:\n",
    "\n",
    "1. **`fit(X_train)`** → Learns how to expand features from `X_train`\n",
    "\n",
    "   * For example: if `X_train` has 2 features and `degree=2`, it figures out how to create terms like $x_1^2, x_1x_2, x_2^2$, etc.\n",
    "   * **It learns the structure** of the transformation based on the input.\n",
    "\n",
    "2. **`transform(X_train)`** → Actually **applies the transformation** to `X_train`\n",
    "\n",
    "So it’s like:\n",
    "\n",
    "```python\n",
    "poly.fit(X_train)      # Learn the transformation\n",
    "X_train_trans = poly.transform(X_train)  # Apply it to training data\n",
    "```\n",
    "\n",
    "But for convenience, we use:\n",
    "\n",
    "```python\n",
    "poly.fit_transform(X_train)\n",
    "```\n",
    "\n",
    "---\n",
    "\n",
    "### ✅ 2. `transform(X_test)`\n",
    "\n",
    "This just **applies the already learned transformation** to new/unseen data like `X_test`.\n",
    "\n",
    "> It does **not learn anything new** from the test data. It just uses what was fitted on training data.\n",
    "\n",
    "---\n",
    "\n",
    "## ⚠️ Why this separation is important?\n",
    "\n",
    "### Because you **must never learn anything from the test data** during training!\n",
    "\n",
    "That would be **data leakage** and ruin the integrity of your model evaluation.\n",
    "\n",
    "So, the correct pattern is always:\n",
    "\n",
    "```python\n",
    "poly = PolynomialFeatures(degree=2)\n",
    "\n",
    "X_train_trans = poly.fit_transform(X_train)  # Learn from training\n",
    "X_test_trans = poly.transform(X_test)        # Apply only what you learned\n",
    "```\n",
    "\n",
    "---\n",
    "\n",
    "### 🔄 Quick Analogy:\n",
    "\n",
    "Think of `fit_transform()` like designing and tailoring a suit using your own measurements (training set).\n",
    "\n",
    "Then `transform()` is just using that same suit design and applying it to someone else (test set) — **no new measurements are taken.**\n",
    "\n",
    "---\n",
    "\n",
    "Let me know if you want me to show what exactly happens inside with a concrete numeric example. It’ll be fun!\n"
   ]
  },
  {
   "cell_type": "markdown",
   "id": "7f353b74",
   "metadata": {},
   "source": [
    "## Why x_sorted and Y_sorted came in ficture in polynomial regressing ploting\n",
    "\n",
    "## ✅ 🔁 **Summary: Why Polynomial Regression Plot Looks Zig-Zag (and How to Fix It)**\n",
    "\n",
    "### 💥 **The Problem**\n",
    "\n",
    "```python\n",
    "plt.plot(x_train, model.predict(x_train_transformed))\n",
    "```\n",
    "\n",
    "* This draws a **zig-zag or broken curve** ❌ even though the predictions are correct.\n",
    "\n",
    "### 🎯 **Why it Happens**\n",
    "\n",
    "* `x_train` is **not sorted** (because of train-test split).\n",
    "* `plt.plot(x, y)` **connects points in array order**, not based on increasing x-values.\n",
    "* In **polynomial regression**, predictions curve non-linearly.\n",
    "* So unsorted x-values lead to **random jumps in the line** (zig-zag).\n",
    "\n",
    "---\n",
    "\n",
    "### ⚙️ **Why it Doesn’t Happen in Linear Regression**\n",
    "\n",
    "```python\n",
    "plt.plot(x_train, model.predict(x_train))\n",
    "```\n",
    "\n",
    "* Still uses unsorted x, but the output is a straight line.\n",
    "* So even with jumps in x, the line appears visually correct.\n",
    "* It's actually zig-zag too — but all points lie on a straight path → so we **don't notice**.\n",
    "\n",
    "---\n",
    "\n",
    "### ✅ **How to Fix It (2 Ways)**\n",
    "\n",
    "#### ✅ **Option 1: Sort x\\_train before plotting**\n",
    "\n",
    "```python\n",
    "sorted_idx = np.argsort(x_train.ravel())\n",
    "x_sorted = x_train[sorted_idx]\n",
    "y_sorted = y_pred[sorted_idx]\n",
    "plt.plot(x_sorted, y_sorted)\n",
    "```\n",
    "\n",
    "#### ✅ **Option 2: Use smooth evenly spaced x values**\n",
    "\n",
    "```python\n",
    "x_curve = np.linspace(x.min(), x.max(), 200).reshape(-1, 1)\n",
    "x_curve_trans = poly.transform(x_curve)\n",
    "y_curve = model.predict(x_curve_trans)\n",
    "plt.plot(x_curve, y_curve)\n",
    "```\n",
    "\n",
    "---\n",
    "\n",
    "### 🧠 **Key Takeaways**\n",
    "\n",
    "| Concept                     | What You Should Remember                                            |\n",
    "| --------------------------- | ------------------------------------------------------------------- |\n",
    "| `plt.plot(x, y)`            | Connects points in the **order of array**, not by x's actual values |\n",
    "| Polynomial regression curve | Will look broken unless `x` is **sorted or smoothed**               |\n",
    "| Linear regression           | Line appears fine even if x is not sorted (but technically zig-zag) |\n",
    "| Best practice               | Always use sorted or evenly spaced x for plotting regression lines  |\n",
    "\n",
    "---\n",
    "\n",
    "### 📝 Tip:\n",
    "\n",
    "> **Always sort x-values or use `np.linspace()` when plotting regression lines, especially for polynomial regression.**\n",
    "\n",
    "Save this summary in your Markdown notes for later. Want me to give you this as a markdown cell ready to paste?\n"
   ]
  },
  {
   "cell_type": "markdown",
   "id": "1784e9b8",
   "metadata": {},
   "source": []
  }
 ],
 "metadata": {
  "kernelspec": {
   "display_name": "Python 3",
   "language": "python",
   "name": "python3"
  },
  "language_info": {
   "codemirror_mode": {
    "name": "ipython",
    "version": 3
   },
   "file_extension": ".py",
   "mimetype": "text/x-python",
   "name": "python",
   "nbconvert_exporter": "python",
   "pygments_lexer": "ipython3",
   "version": "3.11.2"
  }
 },
 "nbformat": 4,
 "nbformat_minor": 5
}
